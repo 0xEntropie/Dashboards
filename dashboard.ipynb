{
 "cells": [
  {
   "cell_type": "code",
   "execution_count": 1,
   "metadata": {},
   "outputs": [],
   "source": [
    "import pandas as pd\n",
    "import plotly.express as px  # (version 4.7.0)\n",
    "import plotly.graph_objects as go\n",
    "\n",
    "import dash  # (version 1.12.0) pip install dash\n",
    "import dash_core_components as dcc\n",
    "import dash_html_components as html\n",
    "from dash.dependencies import Input, Output"
   ]
  },
  {
   "cell_type": "code",
   "execution_count": 2,
   "metadata": {},
   "outputs": [
    {
     "name": "stdout",
     "output_type": "stream",
     "text": [
      "      State  ANSI Affected by  Year state_code  Pct of Colonies Impacted\n",
      "0   Alabama     1     Disease  2015         AL                     0.050\n",
      "1   Alabama     1     Disease  2016         AL                     1.200\n",
      "2   Alabama     1     Disease  2017         AL                     2.250\n",
      "3   Alabama     1     Disease  2018         AL                     1.300\n",
      "4   Alabama     1     Disease  2019         AL                     1.800\n",
      "5   Alabama     1       Other  2015         AL                     4.325\n",
      "6   Alabama     1       Other  2016         AL                     4.275\n",
      "7   Alabama     1       Other  2017         AL                     6.325\n",
      "8   Alabama     1       Other  2018         AL                     7.300\n",
      "9   Alabama     1       Other  2019         AL                     3.100\n",
      "10  Alabama     1  Pesticides  2015         AL                     1.825\n",
      "11  Alabama     1  Pesticides  2016         AL                     4.000\n",
      "12  Alabama     1  Pesticides  2017         AL                    13.075\n",
      "13  Alabama     1  Pesticides  2018         AL                    11.350\n",
      "14  Alabama     1  Pesticides  2019         AL                     0.300\n"
     ]
    }
   ],
   "source": [
    "# ------------------------------------------------------------------------------\n",
    "\n",
    "\n",
    "\n",
    "app = dash.Dash(__name__)\n",
    "\n",
    "app.css.append_css({\n",
    "    \"external_url\":'/assets/stylesheet.css'\n",
    "})\n",
    "\n",
    "theme =  {\n",
    "    'dark': True,\n",
    "    'detail': '#007439',\n",
    "    'primary': '#00EA64',\n",
    "    'secondary': '#6E6E6E',\n",
    "}\n",
    "\n",
    "\n",
    "# ---------- Import and clean data (importing csv into pandas)\n",
    "df = pd.read_csv(\"intro_bees.csv\")\n",
    "# df = pd.read_csv(\"https://raw.githubusercontent.com/Coding-with-Adam/Dash-by-Plotly/master/Other/Dash_Introduction/intro_bees.csv\")\n",
    "\n",
    "df = df.groupby(['State', 'ANSI', 'Affected by', 'Year', 'state_code'])[['Pct of Colonies Impacted']].mean()\n",
    "df.reset_index(inplace=True)\n",
    "print(df[:15])\n",
    "\n",
    "# ------------------------------------------------------------------------------"
   ]
  },
  {
   "cell_type": "code",
   "execution_count": 3,
   "metadata": {},
   "outputs": [],
   "source": [
    "# ------------------------------------------------------------------------------\n",
    "# App layout\n",
    "# app.layout = html.Div([\n",
    "\n",
    "#     html.H1(\"Web Application Dashboards with Dash\", style={'text-align': 'center'}),\n",
    "\n",
    "#     dcc.Dropdown(id=\"slct_year\",\n",
    "#                  options=[\n",
    "#                      {\"label\": \"2015\", \"value\": 2015},\n",
    "#                      {\"label\": \"2016\", \"value\": 2016},\n",
    "#                      {\"label\": \"2017\", \"value\": 2017},\n",
    "#                      {\"label\": \"2018\", \"value\": 2018}],\n",
    "#                  multi=False,\n",
    "#                  value=2015,\n",
    "#                  style={'width': \"40%\"}\n",
    "#                  ),\n",
    "\n",
    "#     html.Div()\n",
    "#     html.Div(id='output_container', children=[]),\n",
    "#     html.Br(),\n",
    "#     dcc.Graph(id='my_bee_map', figure={}),\n",
    "#     html.Br(),\n",
    "#     dcc.Graph(id='my_bee_map2', figure={})\n",
    "\n",
    "# ])\n",
    "\n",
    "app.layout = html.Div(className='row', children=[\n",
    "\n",
    "    html.H1(\"Web Application Dashboards with Dash\", style={'text-align': 'center'}),\n",
    "    \n",
    "    dcc.Dropdown(id=\"slct_year\",\n",
    "                 options=[\n",
    "                     {\"label\": \"2015\", \"value\": 2015},\n",
    "                     {\"label\": \"2016\", \"value\": 2016},\n",
    "                     {\"label\": \"2017\", \"value\": 2017},\n",
    "                     {\"label\": \"2018\", \"value\": 2018}],\n",
    "                 multi=False,\n",
    "                 value=2015,\n",
    "                 style={'width': \"40%\"}\n",
    "                 ),\n",
    "    html.Div(id='output_container', children=[]),\n",
    "    html.Br(),\n",
    "\n",
    "    dcc.Dropdown(id=\"slct_disease\",\n",
    "                 options=[\n",
    "                     {\"label\": \"Pesticides\", \"value\": 'Pesticides'},\n",
    "                     {\"label\": \"Disease\", \"value\": 'Disease'},\n",
    "                     {\"label\": \"Pests excl Var\", \"value\": 'Pests_excl_Varroa'},\n",
    "                     {\"label\": \"Varroa mites\", \"value\": 'Varroa_mites'}],\n",
    "                 multi=False,\n",
    "                 value='Disease',\n",
    "                 style={'width': \"40%\"}\n",
    "                 ),\n",
    "    html.Div(id='output_container2', children=[]),\n",
    "    html.Br(),\n",
    "    html.Div(children=[\n",
    "        dcc.Graph(id='my_bee_map', figure={}, style={'display': 'inline-block'}),\n",
    "        dcc.Graph(id='my_bee_map2', figure={}, style={'display': 'inline-block'}),\n",
    "        dcc.Graph(id='my_bee_map3', figure={}, style={'display': 'inline-block'})\n",
    "    ]),\n",
    "  \n",
    "])\n",
    "# ------------------------------------------------------------------------------"
   ]
  },
  {
   "cell_type": "code",
   "execution_count": 4,
   "metadata": {},
   "outputs": [],
   "source": [
    "# ------------------------------------------------------------------------------\n",
    "# Connect the Plotly graphs with Dash Components\n",
    "@app.callback(\n",
    "    [Output(component_id='output_container', component_property='children'),\n",
    "     Output(component_id='output_container2', component_property='children'),\n",
    "     Output(component_id='my_bee_map', component_property='figure'),\n",
    "     Output(component_id='my_bee_map2', component_property='figure'),\n",
    "     Output(component_id='my_bee_map3', component_property='figure')],\n",
    "    [Input(component_id='slct_year', component_property='value'),\n",
    "     Input(component_id='slct_disease', component_property='value')]\n",
    ")\n",
    "def update_graph(option_slctd,option_disease):\n",
    "    print(option_slctd)\n",
    "    print(type(option_slctd))\n",
    "    print(option_disease)\n",
    "    print(type(option_disease))\n",
    "\n",
    "    container = \"The year chosen by user was: {}\".format(option_slctd)\n",
    "    container2 = \"The disease chosen: {}\".format(option_disease)\n",
    "\n",
    "    dff = df.copy()\n",
    "    dff = dff[dff[\"Year\"] == option_slctd]\n",
    "    dff = dff[dff[\"Affected by\"] == option_disease]\n",
    "\n",
    "    # Plotly Express\n",
    "    fig = px.choropleth(\n",
    "        data_frame=dff,\n",
    "        locationmode='USA-states',\n",
    "        locations='state_code',\n",
    "        scope=\"usa\",\n",
    "        color='Pct of Colonies Impacted',\n",
    "        hover_data=['State', 'Pct of Colonies Impacted'],\n",
    "        color_continuous_scale=px.colors.sequential.YlOrRd,\n",
    "        labels={'Pct of Colonies Impacted': '% of Bee Colonies'},\n",
    "        template='plotly_dark'\n",
    "    )\n",
    "  \n",
    "    # Plotly Express\n",
    "    fig_2 = px.bar(\n",
    "        data_frame=dff,\n",
    "        x = dff['State'],\n",
    "        y = dff['Pct of Colonies Impacted'],\n",
    "        template='plotly_dark'\n",
    "    )\n",
    "    \n",
    "    dff = df.copy()\n",
    "    dff = dff[dff[\"Affected by\"] == option_disease]\n",
    "    dff = dff[(dff[\"State\"] == \"Idaho\") | (dff[\"State\"] == \"New York\") | (dff[\"State\"] == \"New Mexico\")]\n",
    "\n",
    "    fig_3 = px.line(\n",
    "        data_frame=dff,\n",
    "        x = dff['Year'],\n",
    "        y = dff['Pct of Colonies Impacted'],\n",
    "        template='plotly_dark',\n",
    "        title = 'Dynamic Disease Plot',\n",
    "        color ='State',\n",
    "        hover_name= 'State'\n",
    "    )\n",
    "\n",
    "#     Plotly Graph Objects (GO)\n",
    "#     fig = go.Figure(\n",
    "#         data=[go.Choropleth(\n",
    "#             locationmode='USA-states',\n",
    "#             locations=dff['state_code'],\n",
    "#             z=dff[\"Pct of Colonies Impacted\"].astype(float),\n",
    "#             colorscale='Reds',\n",
    "#         )]\n",
    "#     )\n",
    "    \n",
    "#     fig.update_layout(\n",
    "#         title_text=\"Bees Affected by Mites in the USA\",\n",
    "#         title_xanchor=\"center\",\n",
    "#         title_font=dict(size=24),\n",
    "#         title_x=0.5,\n",
    "#         geo=dict(scope='usa'),\n",
    "#     )\n",
    "\n",
    "    return container, container2, fig, fig_2, fig_3\n",
    "\n",
    "\n",
    "# ------------------------------------------------------------------------------"
   ]
  },
  {
   "cell_type": "code",
   "execution_count": null,
   "metadata": {},
   "outputs": [
    {
     "name": "stdout",
     "output_type": "stream",
     "text": [
      "Dash is running on http://127.0.0.1:8050/\n",
      "\n",
      " * Serving Flask app \"__main__\" (lazy loading)\n",
      " * Environment: production\n",
      "   WARNING: This is a development server. Do not use it in a production deployment.\n",
      "   Use a production WSGI server instead.\n",
      " * Debug mode: on\n"
     ]
    },
    {
     "name": "stderr",
     "output_type": "stream",
     "text": [
      "C:\\Users\\SATEX\\Anaconda3\\lib\\site-packages\\dash\\resources.py:72: UserWarning: You have set your config to `serve_locally=True` but A local version of /assets/stylesheet.css is not available.\n",
      "If you added this file with `app.scripts.append_script` or `app.css.append_css`, use `external_scripts` or `external_stylesheets` instead.\n",
      "See https://dash.plot.com/external-resources\n",
      "  ).format(s[\"external_url\"])\n"
     ]
    },
    {
     "name": "stdout",
     "output_type": "stream",
     "text": [
      "2015\n",
      "<class 'int'>\n",
      "Disease\n",
      "<class 'str'>\n",
      "2016\n",
      "<class 'int'>\n",
      "Disease\n",
      "<class 'str'>\n",
      "2016\n",
      "<class 'int'>\n",
      "None\n",
      "<class 'NoneType'>\n",
      "2016\n",
      "<class 'int'>\n",
      "Disease\n",
      "<class 'str'>\n"
     ]
    }
   ],
   "source": [
    "# ------------------------------------------------------------------------------\n",
    "if __name__ == '__main__':\n",
    "    app.run_server(debug=True, use_reloader=False)"
   ]
  },
  {
   "cell_type": "code",
   "execution_count": null,
   "metadata": {},
   "outputs": [],
   "source": []
  },
  {
   "cell_type": "code",
   "execution_count": null,
   "metadata": {},
   "outputs": [],
   "source": [
    "dff = df.copy()\n",
    "print(dff)"
   ]
  },
  {
   "cell_type": "code",
   "execution_count": null,
   "metadata": {},
   "outputs": [],
   "source": [
    "(39.55*13 + 5*32.42)/(18)"
   ]
  },
  {
   "cell_type": "code",
   "execution_count": null,
   "metadata": {},
   "outputs": [],
   "source": [
    "5*"
   ]
  },
  {
   "cell_type": "code",
   "execution_count": null,
   "metadata": {},
   "outputs": [],
   "source": [
    "(39.55*13 + 5*32.42)/(18)"
   ]
  },
  {
   "cell_type": "code",
   "execution_count": null,
   "metadata": {},
   "outputs": [],
   "source": []
  }
 ],
 "metadata": {
  "kernelspec": {
   "display_name": "Python 3",
   "language": "python",
   "name": "python3"
  },
  "language_info": {
   "codemirror_mode": {
    "name": "ipython",
    "version": 3
   },
   "file_extension": ".py",
   "mimetype": "text/x-python",
   "name": "python",
   "nbconvert_exporter": "python",
   "pygments_lexer": "ipython3",
   "version": "3.7.3"
  }
 },
 "nbformat": 4,
 "nbformat_minor": 4
}
